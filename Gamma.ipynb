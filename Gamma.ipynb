[Открыть в Google Colab](https://colab.research.google.com/github/Lepeshka228/gamma-ray-detection/blob/main/Gamma.ipynb)
